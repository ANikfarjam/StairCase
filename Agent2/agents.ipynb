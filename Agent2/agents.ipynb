{
 "cells": [
  {
   "cell_type": "code",
   "execution_count": 2,
   "id": "a1a330d5",
   "metadata": {},
   "outputs": [],
   "source": [
    "from langchain_core.prompts import ChatPromptTemplate\n",
    "from langchain_core.runnables import RunnableLambda\n",
    "import requests\n",
    "import os\n",
    "from dotenv import load_dotenv\n",
    "\n",
    "load_dotenv()\n",
    "MISTRAL_API_KEY = os.getenv(os.getenv(\"MISTRAL_API_KEY\"))  # Store your key as env variable\n",
    "MISTRAL_API_URL = \"https://api.mistral.ai/v1/chat/completions\"\n",
    "MISTRAL_MODEL = \"mistral-small\"  # or \"mistral-medium\", etc.\n",
    "\n",
    "def mistral_call(prompt: str) -> str:\n",
    "    headers = {\n",
    "        \"Authorization\": f\"Bearer {MISTRAL_API_KEY}\",\n",
    "        \"Content-Type\": \"application/json\"\n",
    "    }\n",
    "\n",
    "    payload = {\n",
    "        \"model\": MISTRAL_MODEL,\n",
    "        \"messages\": [\n",
    "            {\"role\": \"user\", \"content\": prompt}\n",
    "        ],\n",
    "        \"temperature\": 0.7\n",
    "    }\n",
    "\n",
    "    response = requests.post(MISTRAL_API_URL, headers=headers, json=payload)\n",
    "\n",
    "    if response.status_code == 200:\n",
    "        return response.json()[\"choices\"][0][\"message\"][\"content\"]\n",
    "    else:\n",
    "        raise Exception(f\"Mistral API error: {response.text}\")\n",
    "\n",
    "# Wrap it as a LangChain Runnable\n",
    "mistral_model = RunnableLambda(lambda x: mistral_call(x[\"question\"]))\n",
    "\n",
    "# Build prompt\n",
    "template = \"Question: {question}\"\n",
    "prompt = ChatPromptTemplate.from_template(template)\n",
    "\n",
    "# Chain = prompt → mistral_model\n",
    "chain = prompt | mistral_model\n"
   ]
  },
  {
   "cell_type": "code",
   "execution_count": null,
   "id": "851c8bbc",
   "metadata": {},
   "outputs": [],
   "source": []
  }
 ],
 "metadata": {
  "kernelspec": {
   "display_name": "Python 3",
   "language": "python",
   "name": "python3"
  },
  "language_info": {
   "codemirror_mode": {
    "name": "ipython",
    "version": 3
   },
   "file_extension": ".py",
   "mimetype": "text/x-python",
   "name": "python",
   "nbconvert_exporter": "python",
   "pygments_lexer": "ipython3",
   "version": "3.10.4"
  }
 },
 "nbformat": 4,
 "nbformat_minor": 5
}
