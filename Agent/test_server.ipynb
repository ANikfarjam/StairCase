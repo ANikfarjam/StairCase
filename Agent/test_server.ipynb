{
 "cells": [
  {
   "cell_type": "markdown",
   "metadata": {},
   "source": [
    "Threat this as a test playground to test our langchain and lang graph set up"
   ]
  },
  {
   "cell_type": "markdown",
   "metadata": {
    "vscode": {
     "languageId": "plaintext"
    }
   },
   "source": [
    "### <span style=\"color: green\">Trivia LC</span>"
   ]
  },
  {
   "cell_type": "code",
   "execution_count": 47,
   "metadata": {},
   "outputs": [],
   "source": [
    "from langchain_core.prompts import ChatPromptTemplate\n",
    "from langchain_ollama.llms import OllamaLLM\n",
    "\n",
    "template = \"\"\"Question: {question}\"\"\"\n",
    "\n",
    "# Answer: Let's think step by step.\"\"\"\n",
    "\n",
    "prompt = ChatPromptTemplate.from_template(template)\n",
    "\n",
    "model = OllamaLLM(model=\"llama3.2\")\n",
    "\n",
    "chain = prompt | model\n"
   ]
  },
  {
   "cell_type": "code",
   "execution_count": 48,
   "metadata": {},
   "outputs": [],
   "source": [
    "#chain.invoke({\"question\": \"What is LangChain?\"})\n",
    "class agent:\n",
    "    def __init__(self, chain):\n",
    "        self.__chain = chain\n",
    "    def chain(self):\n",
    "        return self.__chain\n",
    "class triviaAgent(agent):\n",
    "    def __init__(self, *args, **kwargs):\n",
    "        super().__init__(*args, **kwargs)\n",
    "    def envoke(self, topic):\n",
    "        response = self.chain().invoke({\"question\": f\"Generate a multiple-choice trivia question about {topic}.\"})\n",
    "        return response\n",
    "    def check_answer(self, answer):\n",
    "        check_answer = self.chain().invoke({\"question\": f\"\"\"Is this the corerct answer, {answer}, True or False\"\"\"})\n",
    "        return check_answer\n",
    "class HangMan(agent):\n",
    "    def __init__(self, *args, **kwargs):\n",
    "        super().__init__(*args, **kwargs)\n",
    "    def envoke(self):\n",
    "        response = self.chain().invoke({\"question\": \"Generate a randome word for a hangman game. Only give me one word response!\"})\n",
    "        return response"
   ]
  },
  {
   "cell_type": "code",
   "execution_count": 49,
   "metadata": {},
   "outputs": [
    {
     "name": "stdout",
     "output_type": "stream",
     "text": [
      "Here's your multiple-choice trivia question:\n",
      "\n",
      "Question: Which boxer won world titles in eight different weight divisions, a record that still stands today?\n",
      "\n",
      "A) Muhammad Ali\n",
      "B) Manny Pacquiao\n",
      "C) Floyd Mayweather Jr.\n",
      "D) Sugar Ray Leonard\n",
      "\n",
      "Choose your answer!\n"
     ]
    }
   ],
   "source": [
    "\"\"\"\n",
    "Testing Agents\n",
    "\"\"\"\n",
    "\n",
    "trivia_agent = triviaAgent(chain=chain)\n",
    "question = trivia_agent.envoke(topic=\"sports\")\n",
    "print(question)\n",
    "# answer = input('Your answer Choice:')\n",
    "# trivia_agent.check_answer(question=question, answer=answer)"
   ]
  },
  {
   "cell_type": "code",
   "execution_count": 50,
   "metadata": {},
   "outputs": [
    {
     "name": "stdout",
     "output_type": "stream",
     "text": [
      "True.\n"
     ]
    }
   ],
   "source": [
    "answer = trivia_agent.check_answer('B) Manny Pacquiao')\n",
    "print(answer)"
   ]
  },
  {
   "cell_type": "code",
   "execution_count": 51,
   "metadata": {},
   "outputs": [
    {
     "data": {
      "text/plain": [
       "'FABLE'"
      ]
     },
     "execution_count": 51,
     "metadata": {},
     "output_type": "execute_result"
    }
   ],
   "source": [
    "hangman_agent = HangMan(chain=chain)\n",
    "hangman_agent.envoke()"
   ]
  },
  {
   "cell_type": "code",
   "execution_count": 52,
   "metadata": {},
   "outputs": [],
   "source": [
    "class board_agent(agent):\n",
    "    def __init__(self, *args, **kwargs):\n",
    "        super().__init__(*args, **kwargs)\n",
    "\n",
    "        # Color meanings used in the board and background generation\n",
    "        self.__color_list_dict = {\n",
    "            ('red', 'snake head or tail'): 1, \n",
    "            ('blue', 'trivia'): 2,\n",
    "            ('green', 'ladder edges'): 3,\n",
    "            ('yellow', 'hang_man'): 4,\n",
    "            ('gray', 'normal'): 5\n",
    "        }\n",
    "\n",
    "    def gen_board(self):\n",
    "        prompt = f\"\"\"\n",
    "        You are generating board content for a مار و پله (snake & ladder) game played on a 10x10 matrix.\n",
    "\n",
    "        Use the following color mapping:\n",
    "        {self.__color_list_dict}\n",
    "\n",
    "        Instructions:\n",
    "        - Generate and return a Python dictionary.\n",
    "        - The dictionary must contain the following keys:\n",
    "            - \"snakes\": list of head and tail pairs in this format → [[i1, j1], [i2, j2]]\n",
    "            - \"ladders\": list of bottom and top pairs in this format → [[i3, j3], [i4, j4]]\n",
    "            - \"hangman\": list of individual positions like → [ [i5, j5], ... ]\n",
    "            - \"trivia\": list of individual positions like → [ [i6, j6], ... ]\n",
    "        - Ensure that 60% to 70% of the matrix remains \"gray\" (normal tiles) and is excluded from the output.\n",
    "        - Snake heads must be above tails (i1 < i2), and ladder bottoms must be below tops (i3 > i4).\n",
    "        - Ensure **no overlaps** across all positions.\n",
    "        - Only return the dictionary in the format shown below — not CODE\n",
    "        \"\"\"\n",
    "\n",
    "        board = self.chain().invoke({'question': prompt})\n",
    "        return board\n",
    "\n",
    "\n",
    "  \n"
   ]
  },
  {
   "cell_type": "code",
   "execution_count": 53,
   "metadata": {},
   "outputs": [
    {
     "name": "stdout",
     "output_type": "stream",
     "text": [
      "def generate_board_content():\n",
      "    # Define the board size\n",
      "    rows, cols = 10, 10\n",
      "    \n",
      "    # Generate random positions for snakes and ladders to ensure no overlaps\n",
      "    from random import shuffle\n",
      "    snake_positions = [(i, j) for i in range(rows) for j in range(cols)]\n",
      "    ladder_positions = [(rows - i - 1, j) for i in range(rows) for j in range(cols)]\n",
      "    hangman_positions = [(random.randint(0, rows-1), random.randint(0, cols-1)) for _ in range(int(rows*cols * 0.7))]\n",
      "    trivia_positions = [(random.randint(0, rows-1), random.randint(0, cols-1)) for _ in range(int(rows*cols * 0.3))]\n",
      "    \n",
      "    # Ensure snake heads are above tails\n",
      "    shuffle(snake_positions)\n",
      "    snake_positions = sorted([x for x in snake_positions if x[0] < x[1]], key=lambda pair: (pair[0], pair[1]))\n",
      "    \n",
      "    # Ensure ladder bottoms are below tops\n",
      "    shuffle(ladder_positions)\n",
      "    ladder_positions = sorted([x for x in ladder_positions if x[0] > x[1]], key=lambda pair: (pair[0], pair[1]))\n",
      "    \n",
      "    # Ensure no overlaps across all positions\n",
      "    snakes_and_ladders = set()\n",
      "    for pos in snake_positions + ladder_positions:\n",
      "        snakes_and_ladders.add(pos)\n",
      "    hangman_positions = [pos for pos in hangman_positions if pos not in snakes_and_ladders]\n",
      "    trivia_positions = [pos for pos in trivia_positions if pos not in snakes_and_ladders]\n",
      "    \n",
      "    # Define the color mapping\n",
      "    color_mapping = {\n",
      "        ('red', 'snake head or tail'): 1,\n",
      "        ('blue', 'trivia'): 2,\n",
      "        ('green', 'ladder edges'): 3,\n",
      "        ('yellow', 'hang_man'): 4,\n",
      "        ('gray', 'normal'): 5\n",
      "    }\n",
      "    \n",
      "    # Generate the board content dictionary\n",
      "    board_content = {\n",
      "        \"snakes\": [[i, j] for i, j in snake_positions],\n",
      "        \"ladders\": [[rows - i - 1, j] for i, j in ladder_positions],\n",
      "        \"hangman\": hangman_positions,\n",
      "        \"trivia\": trivia_positions\n",
      "    }\n",
      "    \n",
      "    return board_content\n"
     ]
    }
   ],
   "source": [
    "boardAgent = board_agent(chain)\n",
    "bord = boardAgent.gen_board()\n",
    "print(bord)"
   ]
  },
  {
   "cell_type": "code",
   "execution_count": 29,
   "metadata": {},
   "outputs": [],
   "source": [
    "import re\n",
    "\n",
    "pattern = r\"python(.*?)\" \n",
    "match = re.search(pattern, bord, re.DOTALL)"
   ]
  },
  {
   "cell_type": "code",
   "execution_count": 54,
   "metadata": {},
   "outputs": [],
   "source": [
    "# code = match.group(1).strip()\n",
    "exec(bord)"
   ]
  },
  {
   "cell_type": "code",
   "execution_count": null,
   "metadata": {},
   "outputs": [],
   "source": [
    "  def gen_bkgrnd(self, board):\n",
    "        # Use the board to generate a description or layout background\n",
    "        prompt = f\"\"\"\n",
    "        Given the following 10x10 board matrix (each number maps to a theme):\n",
    "        {board}\n",
    "\n",
    "        Mapping legend: {self.__color_list_dict}\n",
    "\n",
    "        Create a background description for a مار و پله (snake & ladder) game.\n",
    "        - Describe placement of snakes, ladders, trivia tiles, and hangman tiles.\n",
    "        - Make it consistent with the matrix layout.\n",
    "        - Keep the language fun, playful, and concise.\n",
    "        \"\"\"\n",
    "        background = self.chain().invoke({'question': prompt})\n",
    "        return background"
   ]
  }
 ],
 "metadata": {
  "kernelspec": {
   "display_name": "Python 3",
   "language": "python",
   "name": "python3"
  },
  "language_info": {
   "codemirror_mode": {
    "name": "ipython",
    "version": 3
   },
   "file_extension": ".py",
   "mimetype": "text/x-python",
   "name": "python",
   "nbconvert_exporter": "python",
   "pygments_lexer": "ipython3",
   "version": "3.10.4"
  }
 },
 "nbformat": 4,
 "nbformat_minor": 2
}
