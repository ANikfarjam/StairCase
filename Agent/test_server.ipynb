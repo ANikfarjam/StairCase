{
 "cells": [
  {
   "cell_type": "markdown",
   "metadata": {},
   "source": [
    "Threat this as a test playground to test our langchain and lang graph set up"
   ]
  },
  {
   "cell_type": "markdown",
   "metadata": {
    "vscode": {
     "languageId": "plaintext"
    }
   },
   "source": [
    "### <span style=\"color: green\">Trivia LC</span>"
   ]
  },
  {
   "cell_type": "code",
   "execution_count": 16,
   "metadata": {},
   "outputs": [],
   "source": [
    "from langchain_core.prompts import ChatPromptTemplate\n",
    "from langchain_ollama.llms import OllamaLLM\n",
    "\n",
    "template = \"\"\"Question: {question}\"\"\"\n",
    "\n",
    "# Answer: Let's think step by step.\"\"\"\n",
    "\n",
    "prompt = ChatPromptTemplate.from_template(template)\n",
    "\n",
    "model = OllamaLLM(model=\"llama3.2\")\n",
    "\n",
    "chain = prompt | model\n"
   ]
  },
  {
   "cell_type": "code",
   "execution_count": 23,
   "metadata": {},
   "outputs": [],
   "source": [
    "#chain.invoke({\"question\": \"What is LangChain?\"})\n",
    "class agent:\n",
    "    def __init__(self, chain):\n",
    "        self.__chain = chain\n",
    "    def chain(self):\n",
    "        return self.__chain\n",
    "class triviaAgent(agent):\n",
    "    def __init__(self, *args, **kwargs):\n",
    "        super().__init__(*args, **kwargs)\n",
    "    def envoke(self, topic):\n",
    "        response = self.chain().invoke({\"question\": f\"Generate a multiple-choice trivia question about {topic}.\"})\n",
    "        return response\n",
    "class HangMan(agent):\n",
    "    def __init__(self, *args, **kwargs):\n",
    "        super().__init__(*args, **kwargs)\n",
    "    def envoke(self):\n",
    "        response = self.chain().invoke({\"question\": \"Generate a randome word for a hangman game. Also give me the right answer at the end!\"})\n",
    "        return response"
   ]
  },
  {
   "cell_type": "code",
   "execution_count": 20,
   "metadata": {},
   "outputs": [
    {
     "data": {
      "text/plain": [
       "\"Here's your multiple-choice trivia question:\\n\\nWhat baseball player broke the single-season home run record in 1961?\\n\\nA) Mickey Mantle\\nB) Roger Maris\\nC) Babe Ruth\\nD) Hank Aaron\\n\\nChoose your answer!\""
      ]
     },
     "execution_count": 20,
     "metadata": {},
     "output_type": "execute_result"
    }
   ],
   "source": [
    "\"\"\"\n",
    "Testing Agents\n",
    "\"\"\"\n",
    "\n",
    "trivia_agent = triviaAgent(chain=chain)\n",
    "trivia_agent.envoke(topic=\"sports\")"
   ]
  },
  {
   "cell_type": "code",
   "execution_count": 24,
   "metadata": {},
   "outputs": [
    {
     "data": {
      "text/plain": [
       "\"Let's play a game of hangman!\\n\\nI've generated a random word for you. To play, you'll try to guess the word by suggesting letters. For each incorrect guess, I'll draw a part of the hangman's gallows. If you guess the word correctly before the gallows is complete, you win!\\n\\nHere is the word: _ _ _ _ _ _ (6 letters)\\n\\nGuess a letter!\""
      ]
     },
     "execution_count": 24,
     "metadata": {},
     "output_type": "execute_result"
    }
   ],
   "source": [
    "hangman_agent = HangMan(chain=chain)\n",
    "hangman_agent.envoke()"
   ]
  }
 ],
 "metadata": {
  "kernelspec": {
   "display_name": "Python 3",
   "language": "python",
   "name": "python3"
  },
  "language_info": {
   "codemirror_mode": {
    "name": "ipython",
    "version": 3
   },
   "file_extension": ".py",
   "mimetype": "text/x-python",
   "name": "python",
   "nbconvert_exporter": "python",
   "pygments_lexer": "ipython3",
   "version": "3.10.4"
  }
 },
 "nbformat": 4,
 "nbformat_minor": 2
}
