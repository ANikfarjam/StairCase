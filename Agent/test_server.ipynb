{
 "cells": [
  {
   "cell_type": "markdown",
   "metadata": {},
   "source": [
    "Threat this as a test playground to test our langchain and lang graph set up"
   ]
  },
  {
   "cell_type": "markdown",
   "metadata": {
    "vscode": {
     "languageId": "plaintext"
    }
   },
   "source": [
    "### <span style=\"color: green\">Trivia LC</span>"
   ]
  },
  {
   "cell_type": "code",
   "execution_count": 3,
   "metadata": {},
   "outputs": [],
   "source": [
    "from langchain_core.prompts import ChatPromptTemplate\n",
    "from langchain_ollama.llms import OllamaLLM\n",
    "\n",
    "template = \"\"\"Question: {question}\"\"\"\n",
    "\n",
    "# Answer: Let's think step by step.\"\"\"\n",
    "\n",
    "prompt = ChatPromptTemplate.from_template(template)\n",
    "\n",
    "model = OllamaLLM(model=\"llama3.2\")\n",
    "\n",
    "chain = prompt | model\n"
   ]
  },
  {
   "cell_type": "code",
   "execution_count": 5,
   "metadata": {},
   "outputs": [],
   "source": [
    "#chain.invoke({\"question\": \"What is LangChain?\"})\n",
    "class agent:\n",
    "    def __init__(self, chain):\n",
    "        self.__chain = chain\n",
    "    def chain(self):\n",
    "        return self.__chain\n",
    "class triviaAgent(agent):\n",
    "    def __init__(self, *args, **kwargs):\n",
    "        super().__init__(*args, **kwargs)\n",
    "    def envoke(self, topic):\n",
    "        response = self.chain().invoke({\"question\": f\"Generate a multiple-choice trivia question about {topic}.\"})\n",
    "        return response\n",
    "    def check_answer(self, answer):\n",
    "        check_answer = self.chain().invoke({\"question\": f\"\"\"Is this the corerct answer, {answer}, True or False\"\"\"})\n",
    "        return check_answer\n",
    "class HangMan(agent):\n",
    "    def __init__(self, *args, **kwargs):\n",
    "        super().__init__(*args, **kwargs)\n",
    "    def envoke(self):\n",
    "        response = self.chain().invoke({\"question\": \"Generate a randome word for a hangman game. Only give me one word response!\"})\n",
    "        return response"
   ]
  },
  {
   "cell_type": "code",
   "execution_count": 6,
   "metadata": {},
   "outputs": [
    {
     "name": "stdout",
     "output_type": "stream",
     "text": [
      "Here's your multiple-choice trivia question:\n",
      "\n",
      "What baseball player broke the color barrier in Major League Baseball in 1947?\n",
      "\n",
      "A) Jackie Robinson\n",
      "B) Babe Ruth\n",
      "C) Hank Aaron\n",
      "D) Satchel Paige\n"
     ]
    }
   ],
   "source": [
    "\"\"\"\n",
    "Testing Agents\n",
    "\"\"\"\n",
    "\n",
    "trivia_agent = triviaAgent(chain=chain)\n",
    "question = trivia_agent.envoke(topic=\"sports\")\n",
    "print(question)\n",
    "# answer = input('Your answer Choice:')\n",
    "# trivia_agent.check_answer(question=question, answer=answer)"
   ]
  },
  {
   "cell_type": "code",
   "execution_count": 8,
   "metadata": {},
   "outputs": [
    {
     "name": "stdout",
     "output_type": "stream",
     "text": [
      "True. Satchel Paige was an American professional baseball player who is widely considered one of the greatest pitchers in baseball history. He was known for his impressive fastball and curveball, and he played for several teams, including the Cleveland Indians, St. Louis Browns, and Kansas City Athletics.\n"
     ]
    }
   ],
   "source": [
    "answer = trivia_agent.check_answer(' Satchel Paige')\n",
    "print(answer)"
   ]
  },
  {
   "cell_type": "code",
   "execution_count": 51,
   "metadata": {},
   "outputs": [
    {
     "data": {
      "text/plain": [
       "'FABLE'"
      ]
     },
     "execution_count": 51,
     "metadata": {},
     "output_type": "execute_result"
    }
   ],
   "source": [
    "hangman_agent = HangMan(chain=chain)\n",
    "hangman_agent.envoke()"
   ]
  },
  {
   "cell_type": "code",
   "execution_count": 52,
   "metadata": {},
   "outputs": [],
   "source": [
    "class board_agent(agent):\n",
    "    def __init__(self, *args, **kwargs):\n",
    "        super().__init__(*args, **kwargs)\n",
    "\n",
    "        # Color meanings used in the board and background generation\n",
    "        self.__color_list_dict = {\n",
    "            ('red', 'snake head or tail'): 1, \n",
    "            ('blue', 'trivia'): 2,\n",
    "            ('green', 'ladder edges'): 3,\n",
    "            ('yellow', 'hang_man'): 4,\n",
    "            ('gray', 'normal'): 5\n",
    "        }\n",
    "\n",
    "    def gen_board(self):\n",
    "        prompt = f\"\"\"\n",
    "        You are generating board content for a مار و پله (snake & ladder) game played on a 10x10 matrix.\n",
    "\n",
    "        Use the following color mapping:\n",
    "        {self.__color_list_dict}\n",
    "\n",
    "        Instructions:\n",
    "        - Generate and return a Python dictionary.\n",
    "        - The dictionary must contain the following keys:\n",
    "            - \"snakes\": list of head and tail pairs in this format → [[i1, j1], [i2, j2]]\n",
    "            - \"ladders\": list of bottom and top pairs in this format → [[i3, j3], [i4, j4]]\n",
    "            - \"hangman\": list of individual positions like → [ [i5, j5], ... ]\n",
    "            - \"trivia\": list of individual positions like → [ [i6, j6], ... ]\n",
    "        - Ensure that 60% to 70% of the matrix remains \"gray\" (normal tiles) and is excluded from the output.\n",
    "        - Snake heads must be above tails (i1 < i2), and ladder bottoms must be below tops (i3 > i4).\n",
    "        - Ensure **no overlaps** across all positions.\n",
    "        - Only return the dictionary in the format shown below — not CODE\n",
    "        \"\"\"\n",
    "\n",
    "        board = self.chain().invoke({'question': prompt})\n",
    "        return board\n",
    "\n",
    "\n",
    "  \n"
   ]
  },
  {
   "cell_type": "code",
   "execution_count": 2,
   "metadata": {},
   "outputs": [
    {
     "ename": "NameError",
     "evalue": "name 'board_agent' is not defined",
     "output_type": "error",
     "traceback": [
      "\u001b[0;31m---------------------------------------------------------------------------\u001b[0m",
      "\u001b[0;31mNameError\u001b[0m                                 Traceback (most recent call last)",
      "Cell \u001b[0;32mIn[2], line 1\u001b[0m\n\u001b[0;32m----> 1\u001b[0m boardAgent \u001b[38;5;241m=\u001b[39m \u001b[43mboard_agent\u001b[49m(chain)\n\u001b[1;32m      2\u001b[0m bord \u001b[38;5;241m=\u001b[39m boardAgent\u001b[38;5;241m.\u001b[39mgen_board()\n\u001b[1;32m      3\u001b[0m \u001b[38;5;28mprint\u001b[39m(bord)\n",
      "\u001b[0;31mNameError\u001b[0m: name 'board_agent' is not defined"
     ]
    }
   ],
   "source": [
    "boardAgent = board_agent(chain)\n",
    "bord = boardAgent.gen_board()\n",
    "print(bord)"
   ]
  },
  {
   "cell_type": "code",
   "execution_count": 29,
   "metadata": {},
   "outputs": [],
   "source": [
    "import re\n",
    "\n",
    "pattern = r\"python(.*?)\" \n",
    "match = re.search(pattern, bord, re.DOTALL)"
   ]
  },
  {
   "cell_type": "code",
   "execution_count": 1,
   "metadata": {},
   "outputs": [
    {
     "ename": "NameError",
     "evalue": "name 'bord' is not defined",
     "output_type": "error",
     "traceback": [
      "\u001b[0;31m---------------------------------------------------------------------------\u001b[0m",
      "\u001b[0;31mNameError\u001b[0m                                 Traceback (most recent call last)",
      "Cell \u001b[0;32mIn[1], line 2\u001b[0m\n\u001b[1;32m      1\u001b[0m \u001b[38;5;66;03m# code = match.group(1).strip()\u001b[39;00m\n\u001b[0;32m----> 2\u001b[0m exec(\u001b[43mbord\u001b[49m)\n",
      "\u001b[0;31mNameError\u001b[0m: name 'bord' is not defined"
     ]
    }
   ],
   "source": [
    "# code = match.group(1).strip()\n",
    "exec(bord)"
   ]
  },
  {
   "cell_type": "code",
   "execution_count": null,
   "metadata": {},
   "outputs": [],
   "source": [
    "  def gen_bkgrnd(self, board):\n",
    "        # Use the board to generate a description or layout background\n",
    "        prompt = f\"\"\"\n",
    "        Given the following 10x10 board matrix (each number maps to a theme):\n",
    "        {board}\n",
    "\n",
    "        Mapping legend: {self.__color_list_dict}\n",
    "\n",
    "        Create a background description for a مار و پله (snake & ladder) game.\n",
    "        - Describe placement of snakes, ladders, trivia tiles, and hangman tiles.\n",
    "        - Make it consistent with the matrix layout.\n",
    "        - Keep the language fun, playful, and concise.\n",
    "        \"\"\"\n",
    "        background = self.chain().invoke({'question': prompt})\n",
    "        return background"
   ]
  }
 ],
 "metadata": {
  "kernelspec": {
   "display_name": "Python 3",
   "language": "python",
   "name": "python3"
  },
  "language_info": {
   "codemirror_mode": {
    "name": "ipython",
    "version": 3
   },
   "file_extension": ".py",
   "mimetype": "text/x-python",
   "name": "python",
   "nbconvert_exporter": "python",
   "pygments_lexer": "ipython3",
   "version": "3.10.4"
  }
 },
 "nbformat": 4,
 "nbformat_minor": 2
}
